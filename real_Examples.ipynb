{
 "cells": [
  {
   "cell_type": "markdown",
   "metadata": {},
   "source": [
    "## Visualization of simulations"
   ]
  },
  {
   "cell_type": "code",
   "execution_count": 1,
   "metadata": {},
   "outputs": [],
   "source": [
    "import os, sys\n",
    "from polychrom.hdf5_format import list_URIs, load_URI, load_hdf5_file\n",
    "from nglutils import nglutils as ngu\n",
    "import numpy as np"
   ]
  },
  {
   "cell_type": "code",
   "execution_count": 2,
   "metadata": {},
   "outputs": [],
   "source": [
    "folder = '2019-09-18_18:46_locus_pulling_first_tries'\n",
    "#folder = 'generic_trajectory'\n",
    "base_folder = '/net/levsha/share/simongh/sims/'\n",
    "folder = os.path.join(base_folder, folder)\n",
    "files = list_URIs(folder)"
   ]
  },
  {
   "cell_type": "code",
   "execution_count": 3,
   "metadata": {},
   "outputs": [],
   "source": [
    "data = [load_hdf5_file(os.path.join(folder, 'starting_conformation_0.h5'))['pos']]\n",
    "for file in files:\n",
    "    data.append(load_URI(file)['pos'])\n",
    "data = np.array(data)"
   ]
  },
  {
   "cell_type": "markdown",
   "metadata": {},
   "source": [
    "### Show compartments"
   ]
  },
  {
   "cell_type": "code",
   "execution_count": 4,
   "metadata": {
    "scrolled": true
   },
   "outputs": [
    {
     "data": {
      "application/vnd.jupyter.widget-view+json": {
       "model_id": "d6164389ce1344a48b7e8bfa175af2ce",
       "version_major": 2,
       "version_minor": 0
      },
      "text/plain": [
       "NGLWidget(count=101)"
      ]
     },
     "metadata": {},
     "output_type": "display_data"
    }
   ],
   "source": [
    "def mccmap(color):\n",
    "    def cmap(val):\n",
    "        return color\n",
    "    return cmap\n",
    "\n",
    "frames = slice(None, None)\n",
    "show = slice(0, None) # A, B, C compartments\n",
    "#info = load_hdf5_file(os.path.join(base_folder, 'generic_trajectory/final_conformation_0.h5'))\n",
    "info = load_hdf5_file(os.path.join(folder, 'final_conformation_0.h5'))\n",
    "\n",
    "chainlengths = np.bincount(info['c5_compartmentIDs'])\n",
    "nframes = len(range(*frames.indices(data.shape[0])))\n",
    "chains = [np.empty((nframes, chainlengths[0], 3)),\n",
    "          np.empty((nframes, chainlengths[1], 3)),\n",
    "          np.empty((nframes, chainlengths[2], 3))]\n",
    "ignores = [[], [], []]\n",
    "chaincount = [0, 0, 0]\n",
    "curID = 0\n",
    "for i, ID in enumerate(info['c5_compartmentIDs']):\n",
    "    if not ID == curID:\n",
    "        ignores[curID].append(chaincount[curID])\n",
    "        curID = ID\n",
    "    chains[ID][:, chaincount[ID], :] = data[frames, i, :]\n",
    "    chaincount[ID] += 1\n",
    "\n",
    "for i in range(len(ignores)):\n",
    "    ignores[i] = np.array(ignores[i])\n",
    "\n",
    "cmaps = [mccmap((1.0, 0.8, 0.8)), mccmap((0.8, 0.8, 1.0)), mccmap((1.0, 1.0, 0))]\n",
    "\n",
    "view = ngu.xyz2nglview(chains[show], cmaps[show], exclude_bonds=ignores[show])\n",
    "view"
   ]
  },
  {
   "cell_type": "markdown",
   "metadata": {},
   "source": [
    "### Show chromosomes"
   ]
  },
  {
   "cell_type": "code",
   "execution_count": 5,
   "metadata": {
    "scrolled": true
   },
   "outputs": [
    {
     "data": {
      "application/vnd.jupyter.widget-view+json": {
       "model_id": "e4ae8f55c0344d2dba9af2861e904cd6",
       "version_major": 2,
       "version_minor": 0
      },
      "text/plain": [
       "NGLWidget(count=101)"
      ]
     },
     "metadata": {},
     "output_type": "display_data"
    }
   ],
   "source": [
    "# Load the final_configuration, which has chains and compartments with it, and display.\n",
    "def mccmap(color):\n",
    "    def cmap(val):\n",
    "        return color\n",
    "    return cmap\n",
    "\n",
    "frames = slice(None, None)\n",
    "show = slice(0, None) # show all chromosomes\n",
    "#info = load_hdf5_file(os.path.join(base_folder, 'generic_trajectory/final_conformation_0.h5'))\n",
    "info = load_hdf5_file(os.path.join(folder, 'final_conformation_0.h5'))\n",
    "\n",
    "chains = []\n",
    "for ch in info['chains']:\n",
    "    chains.append(data[frames, ch[0]:ch[1], :])\n",
    "\n",
    "cmaps = [mccmap((1.0, 0, 0)), mccmap((0, 1.0, 0)), mccmap((0, 0, 1.0)), mccmap((1.0, 1.0, 0))]\n",
    "\n",
    "view = ngu.xyz2nglview(chains[show], cmaps[show])\n",
    "view"
   ]
  }
 ],
 "metadata": {
  "kernelspec": {
   "display_name": "Python 3",
   "language": "python",
   "name": "python3"
  },
  "language_info": {
   "codemirror_mode": {
    "name": "ipython",
    "version": 3
   },
   "file_extension": ".py",
   "mimetype": "text/x-python",
   "name": "python",
   "nbconvert_exporter": "python",
   "pygments_lexer": "ipython3",
   "version": "3.7.4"
  }
 },
 "nbformat": 4,
 "nbformat_minor": 2
}
