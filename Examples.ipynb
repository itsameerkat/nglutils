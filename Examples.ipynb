{
 "cells": [
  {
   "cell_type": "code",
   "execution_count": 1,
   "metadata": {},
   "outputs": [],
   "source": [
    "import numpy as np\n",
    "import joblib\n",
    "from matplotlib import pyplot as plt\n",
    "\n",
    "#import sys\n",
    "#sys.path.append('/path/to/nglutils/')\n",
    "import nglutils as ngu"
   ]
  },
  {
   "cell_type": "code",
   "execution_count": 6,
   "metadata": {},
   "outputs": [
    {
     "data": {
      "application/vnd.jupyter.widget-view+json": {
       "model_id": "559d924895024f93a3956d1f4f2b3218",
       "version_major": 2,
       "version_minor": 0
      },
      "text/plain": [
       "NGLWidget()"
      ]
     },
     "metadata": {},
     "output_type": "display_data"
    }
   ],
   "source": [
    "# Example polymer: this is simply an Nx3 numpy array\n",
    "poly = joblib.load('poly.dat')\n",
    "\n",
    "# Plot, straightforward (also: showing how to ignore some bonds)\n",
    "view = ngu.xyz2nglview(poly, exclude_bonds=np.array(range(100, 150, 2)))\n",
    "view"
   ]
  },
  {
   "cell_type": "code",
   "execution_count": 3,
   "metadata": {},
   "outputs": [
    {
     "data": {
      "application/vnd.jupyter.widget-view+json": {
       "model_id": "4f0e830cd6e44472a191b7d4f2284226",
       "version_major": 2,
       "version_minor": 0
      },
      "text/plain": [
       "NGLWidget()"
      ]
     },
     "metadata": {},
     "output_type": "display_data"
    }
   ],
   "source": [
    "# Plot multiple chains, with different colors\n",
    "# the plt.cm.(name) colormaps are just functions returning an (r, g, b, a) tuple corresponding to\n",
    "# a scalar value in [0, 1], so we can easily write simple colormaps ourselves\n",
    "def custom_cmap(val):\n",
    "    gr = val/2 + 0.25\n",
    "    return (gr, gr, gr, 1.0)\n",
    "\n",
    "view = ngu.xyz2nglview([poly[:150], poly[150:]], [plt.cm.spring, custom_cmap])\n",
    "view"
   ]
  },
  {
   "cell_type": "code",
   "execution_count": 4,
   "metadata": {},
   "outputs": [
    {
     "data": {
      "application/vnd.jupyter.widget-view+json": {
       "model_id": "3b27634d01f748a0b164685805d8ba27",
       "version_major": 2,
       "version_minor": 0
      },
      "text/plain": [
       "NGLWidget()"
      ]
     },
     "metadata": {},
     "output_type": "display_data"
    }
   ],
   "source": [
    "# Can also plot different chains following a color map (good for visualizing evolution of a polymer)\n",
    "def gen_cmap(val):\n",
    "    def cmap(v):\n",
    "        return plt.cm.jet(val)\n",
    "    return cmap\n",
    "\n",
    "chains = []\n",
    "cmaps = []\n",
    "for i in range(100):\n",
    "    chains.append(poly + i)\n",
    "    cmaps.append(gen_cmap(i/100))\n",
    "    \n",
    "view = ngu.xyz2nglview(chains, cmaps, scale=5) # Use scale=... to get rid of unwanted bonds when monomers get close\n",
    "view"
   ]
  },
  {
   "cell_type": "code",
   "execution_count": 5,
   "metadata": {},
   "outputs": [
    {
     "data": {
      "application/vnd.jupyter.widget-view+json": {
       "model_id": "ca3ced53a78444c3a7e72f28a8e6126b",
       "version_major": 2,
       "version_minor": 0
      },
      "text/plain": [
       "NGLWidget(count=10)"
      ]
     },
     "metadata": {},
     "output_type": "display_data"
    }
   ],
   "source": [
    "# Visualizing evolution of the polymer as a movie: make the polymer an (N_frames)x(N_monomers)x3 array.\n",
    "# For multiple chains in the movie, pass them as list\n",
    "movie1 = np.array([poly[:150] + i for i in range(10)])\n",
    "movie2 = np.array([poly[150:] - i for i in range(10)])\n",
    "view = ngu.xyz2nglview([movie1, movie2], [plt.cm.spring, plt.cm.viridis])\n",
    "view"
   ]
  },
  {
   "cell_type": "code",
   "execution_count": null,
   "metadata": {},
   "outputs": [],
   "source": []
  }
 ],
 "metadata": {
  "kernelspec": {
   "display_name": "Python 3",
   "language": "python",
   "name": "python3"
  },
  "language_info": {
   "codemirror_mode": {
    "name": "ipython",
    "version": 3
   },
   "file_extension": ".py",
   "mimetype": "text/x-python",
   "name": "python",
   "nbconvert_exporter": "python",
   "pygments_lexer": "ipython3",
   "version": "3.7.3"
  }
 },
 "nbformat": 4,
 "nbformat_minor": 2
}
