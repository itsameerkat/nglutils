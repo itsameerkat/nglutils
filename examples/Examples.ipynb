{
 "cells": [
  {
   "cell_type": "code",
   "execution_count": null,
   "metadata": {},
   "outputs": [],
   "source": [
    "import nglutils.nglutils as ngu\n",
    "import nglview as nv\n",
    "import numpy as np\n",
    "from polychrom.hdf5_format import load_hdf5_file\n",
    "import matplotlib.pyplot as plt # only for colormaps"
   ]
  },
  {
   "cell_type": "code",
   "execution_count": null,
   "metadata": {},
   "outputs": [],
   "source": [
    "# Load some nice example data. Conveniently, this file contains the conformation, chains and compartment info\n",
    "data = load_hdf5_file('example_data.h5')"
   ]
  },
  {
   "cell_type": "markdown",
   "metadata": {},
   "source": [
    "### Quick and easy"
   ]
  },
  {
   "cell_type": "code",
   "execution_count": null,
   "metadata": {},
   "outputs": [],
   "source": [
    "view_simple = ngu.xyz2nglview(data['pos'])\n",
    "view_simple"
   ]
  },
  {
   "cell_type": "markdown",
   "metadata": {},
   "source": [
    "### More detailed visualizations: chromosomes, compartments, other stuff\n",
    "\n",
    "NGL has a powerful selection language, thus if we properly tell it what our chains (i.e. chromosomes) are, we can later reference them (e.g. ':A' for chr1) and assign colors. Also, we can assign three-letter atom names, which we can use to encode for example compartments. Below I just call all atoms in the first compartment A, such that I can reference them as '.A'. Similarly, the B compartment is '.B' and the active locus that is present in this example is '.C'.\n",
    "\n",
    "The details of the selection language are [here](http://nglviewer.org/ngl/api/manual/selection-language.html). In general, that [manual](http://nglviewer.org/ngl/api/manual/index.html) proves useful. To avoid confusion though, keep in mind that this is the manual for the actual NGLViewer, which is written in JavaScript.\n",
    "\n",
    "Parameters for [representations](http://nglviewer.org/ngl/api/manual/molecular-representations.html) are defined and somewhat explained on the [github](https://github.com/arose/ngl/blob/2d84a993/src/representation/representation.js#L279), but what I found useful to play around with is `view._ngl_repr_dict`, which shows all the currently active representations, with all their parameters.\n",
    "\n",
    "For reference on nglview, see the [README](https://github.com/arose/nglview) on their github."
   ]
  },
  {
   "cell_type": "code",
   "execution_count": null,
   "metadata": {},
   "outputs": [],
   "source": [
    "# Load the data, giving the actual 4 chromosomes that we have and the compartment indices.\n",
    "# The compartment indices are stored in the \"atom names\", where they will later be accessible to the selection machinery\n",
    "comps = [chr(65+i) for i in data['c5_compartmentIDs']]\n",
    "top = ngu.mdtop_for_polymer(len(data['pos']), chains=data['chains'], atom_names=comps)\n",
    "view = ngu.xyz2nglview(-data['pos'], top=top)\n",
    "view"
   ]
  },
  {
   "cell_type": "code",
   "execution_count": null,
   "metadata": {},
   "outputs": [],
   "source": [
    "# Now we can customize!\n",
    "# Show chromosomes\n",
    "view.clear()\n",
    "ngu.rep_add.colormap(view, plt.cm.viridis, ':B', colorMode='rgb')\n",
    "ngu.rep_add.colormap(view, plt.cm.spring, ':D', colorMode='rgb')"
   ]
  },
  {
   "cell_type": "code",
   "execution_count": null,
   "metadata": {},
   "outputs": [],
   "source": [
    "# Usually monochrome is most useful, that's why there is a small helper for that\n",
    "view.clear_representations()\n",
    "ngu.rep_add.uniform(view, 0xffaa55, ':A')\n",
    "ngu.rep_add.uniform(view, 0xaaff55, ':B')\n",
    "ngu.rep_add.uniform(view, 0xaa55ff, ':C')\n",
    "ngu.rep_add.uniform(view, 0x55aaff, ':D')"
   ]
  },
  {
   "cell_type": "code",
   "execution_count": null,
   "metadata": {},
   "outputs": [],
   "source": [
    "# Show compartments\n",
    "view.center()\n",
    "view.clear_representations()\n",
    "view.add_representation('licorice', selection='.A',\n",
    "                                    colorScheme='uniform',\n",
    "                                    colorValue=0xffcccc)\n",
    "view.add_representation('hyperball', selection='.B',\n",
    "                                     colorScheme='uniform',\n",
    "                                     colorValue=0xccccff,\n",
    "                                     radius=1)\n",
    "view.add_representation('ball+stick', selection='.C',\n",
    "                                      colorScheme='uniform',\n",
    "                                      colorValue=0xffff00,\n",
    "                                      radius=0.3,\n",
    "                                      aspectRatio=2.0)\n",
    "view.add_representation('surface', selection='.C',\n",
    "                                   colorScheme='uniform',\n",
    "                                   colorValue=0xffdd22,\n",
    "                                   radius=0.3,\n",
    "                                   opacity=0.3)"
   ]
  },
  {
   "cell_type": "code",
   "execution_count": null,
   "metadata": {},
   "outputs": [],
   "source": [
    "# We can add geometric shapes as well!\n",
    "view.shape.add_sphere([0, 0, 0], [0, 0.5, 0], 35)\n",
    "view.update_representation(component=1, repr_index=0, opacity=0.2)"
   ]
  },
  {
   "cell_type": "markdown",
   "metadata": {},
   "source": [
    "### Animations\n",
    "\n",
    "By simply handing nglview a three dimensional array, we can do animations."
   ]
  },
  {
   "cell_type": "code",
   "execution_count": null,
   "metadata": {},
   "outputs": [],
   "source": [
    "wiggle = np.array([[[s/10, np.sin((s+t)*np.pi/10), t/10*(s/100)**2] for s in range(100)] for t in range(100)])\n",
    "view_anim = ngu.xyz2nglview(wiggle)\n",
    "view_anim"
   ]
  }
 ],
 "metadata": {
  "kernelspec": {
   "display_name": "Python 3",
   "language": "python",
   "name": "python3"
  },
  "language_info": {
   "codemirror_mode": {
    "name": "ipython",
    "version": 3
   },
   "file_extension": ".py",
   "mimetype": "text/x-python",
   "name": "python",
   "nbconvert_exporter": "python",
   "pygments_lexer": "ipython3",
   "version": "3.7.3"
  }
 },
 "nbformat": 4,
 "nbformat_minor": 2
}
